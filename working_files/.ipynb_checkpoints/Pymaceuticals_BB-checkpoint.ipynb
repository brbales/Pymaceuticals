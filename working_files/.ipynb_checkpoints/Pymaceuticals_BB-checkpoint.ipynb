{
 "cells": [
  {
   "cell_type": "code",
   "execution_count": 193,
   "metadata": {
    "collapsed": true
   },
   "outputs": [],
   "source": [
    "# modules\n",
    "import pandas as pd\n",
    "import numpy as np\n",
    "import matplotlib.pyplot as plt\n",
    "from scipy.stats import sem"
   ]
  },
  {
   "cell_type": "code",
   "execution_count": 194,
   "metadata": {},
   "outputs": [
    {
     "data": {
      "text/html": [
       "<div>\n",
       "<style>\n",
       "    .dataframe thead tr:only-child th {\n",
       "        text-align: right;\n",
       "    }\n",
       "\n",
       "    .dataframe thead th {\n",
       "        text-align: left;\n",
       "    }\n",
       "\n",
       "    .dataframe tbody tr th {\n",
       "        vertical-align: top;\n",
       "    }\n",
       "</style>\n",
       "<table border=\"1\" class=\"dataframe\">\n",
       "  <thead>\n",
       "    <tr style=\"text-align: right;\">\n",
       "      <th></th>\n",
       "      <th>Mouse ID</th>\n",
       "      <th>Timepoint</th>\n",
       "      <th>Tumor Volume (mm3)</th>\n",
       "      <th>Metastatic Sites</th>\n",
       "    </tr>\n",
       "  </thead>\n",
       "  <tbody>\n",
       "    <tr>\n",
       "      <th>0</th>\n",
       "      <td>b128</td>\n",
       "      <td>0</td>\n",
       "      <td>45.0</td>\n",
       "      <td>0</td>\n",
       "    </tr>\n",
       "    <tr>\n",
       "      <th>1</th>\n",
       "      <td>f932</td>\n",
       "      <td>0</td>\n",
       "      <td>45.0</td>\n",
       "      <td>0</td>\n",
       "    </tr>\n",
       "    <tr>\n",
       "      <th>2</th>\n",
       "      <td>g107</td>\n",
       "      <td>0</td>\n",
       "      <td>45.0</td>\n",
       "      <td>0</td>\n",
       "    </tr>\n",
       "    <tr>\n",
       "      <th>3</th>\n",
       "      <td>a457</td>\n",
       "      <td>0</td>\n",
       "      <td>45.0</td>\n",
       "      <td>0</td>\n",
       "    </tr>\n",
       "    <tr>\n",
       "      <th>4</th>\n",
       "      <td>c819</td>\n",
       "      <td>0</td>\n",
       "      <td>45.0</td>\n",
       "      <td>0</td>\n",
       "    </tr>\n",
       "  </tbody>\n",
       "</table>\n",
       "</div>"
      ],
      "text/plain": [
       "  Mouse ID  Timepoint  Tumor Volume (mm3)  Metastatic Sites\n",
       "0     b128          0                45.0                 0\n",
       "1     f932          0                45.0                 0\n",
       "2     g107          0                45.0                 0\n",
       "3     a457          0                45.0                 0\n",
       "4     c819          0                45.0                 0"
      ]
     },
     "execution_count": 194,
     "metadata": {},
     "output_type": "execute_result"
    }
   ],
   "source": [
    "# read csv 1\n",
    "clinical_df = pd.read_csv(\"../raw_data/clinicaltrial_data.csv\")\n",
    "\n",
    "# sample school data table\n",
    "clinical_df.head()"
   ]
  },
  {
   "cell_type": "code",
   "execution_count": 195,
   "metadata": {},
   "outputs": [
    {
     "data": {
      "text/html": [
       "<div>\n",
       "<style>\n",
       "    .dataframe thead tr:only-child th {\n",
       "        text-align: right;\n",
       "    }\n",
       "\n",
       "    .dataframe thead th {\n",
       "        text-align: left;\n",
       "    }\n",
       "\n",
       "    .dataframe tbody tr th {\n",
       "        vertical-align: top;\n",
       "    }\n",
       "</style>\n",
       "<table border=\"1\" class=\"dataframe\">\n",
       "  <thead>\n",
       "    <tr style=\"text-align: right;\">\n",
       "      <th></th>\n",
       "      <th>Mouse ID</th>\n",
       "      <th>Drug</th>\n",
       "    </tr>\n",
       "  </thead>\n",
       "  <tbody>\n",
       "    <tr>\n",
       "      <th>0</th>\n",
       "      <td>f234</td>\n",
       "      <td>Stelasyn</td>\n",
       "    </tr>\n",
       "    <tr>\n",
       "      <th>1</th>\n",
       "      <td>x402</td>\n",
       "      <td>Stelasyn</td>\n",
       "    </tr>\n",
       "    <tr>\n",
       "      <th>2</th>\n",
       "      <td>a492</td>\n",
       "      <td>Stelasyn</td>\n",
       "    </tr>\n",
       "    <tr>\n",
       "      <th>3</th>\n",
       "      <td>w540</td>\n",
       "      <td>Stelasyn</td>\n",
       "    </tr>\n",
       "    <tr>\n",
       "      <th>4</th>\n",
       "      <td>v764</td>\n",
       "      <td>Stelasyn</td>\n",
       "    </tr>\n",
       "  </tbody>\n",
       "</table>\n",
       "</div>"
      ],
      "text/plain": [
       "  Mouse ID      Drug\n",
       "0     f234  Stelasyn\n",
       "1     x402  Stelasyn\n",
       "2     a492  Stelasyn\n",
       "3     w540  Stelasyn\n",
       "4     v764  Stelasyn"
      ]
     },
     "execution_count": 195,
     "metadata": {},
     "output_type": "execute_result"
    }
   ],
   "source": [
    "# read csv 1\n",
    "mouse_df = pd.read_csv(\"../raw_data/mouse_drug_data.csv\")\n",
    "\n",
    "# sample school data table\n",
    "mouse_df.head()"
   ]
  },
  {
   "cell_type": "code",
   "execution_count": 196,
   "metadata": {},
   "outputs": [
    {
     "data": {
      "text/html": [
       "<div>\n",
       "<style>\n",
       "    .dataframe thead tr:only-child th {\n",
       "        text-align: right;\n",
       "    }\n",
       "\n",
       "    .dataframe thead th {\n",
       "        text-align: left;\n",
       "    }\n",
       "\n",
       "    .dataframe tbody tr th {\n",
       "        vertical-align: top;\n",
       "    }\n",
       "</style>\n",
       "<table border=\"1\" class=\"dataframe\">\n",
       "  <thead>\n",
       "    <tr style=\"text-align: right;\">\n",
       "      <th></th>\n",
       "      <th>Mouse ID</th>\n",
       "      <th>Drug</th>\n",
       "      <th>Timepoint</th>\n",
       "      <th>Tumor Volume (mm3)</th>\n",
       "      <th>Metastatic Sites</th>\n",
       "    </tr>\n",
       "  </thead>\n",
       "  <tbody>\n",
       "    <tr>\n",
       "      <th>0</th>\n",
       "      <td>f234</td>\n",
       "      <td>Stelasyn</td>\n",
       "      <td>0</td>\n",
       "      <td>45.000000</td>\n",
       "      <td>0</td>\n",
       "    </tr>\n",
       "    <tr>\n",
       "      <th>1</th>\n",
       "      <td>f234</td>\n",
       "      <td>Stelasyn</td>\n",
       "      <td>5</td>\n",
       "      <td>47.313491</td>\n",
       "      <td>0</td>\n",
       "    </tr>\n",
       "    <tr>\n",
       "      <th>2</th>\n",
       "      <td>f234</td>\n",
       "      <td>Stelasyn</td>\n",
       "      <td>10</td>\n",
       "      <td>47.904324</td>\n",
       "      <td>0</td>\n",
       "    </tr>\n",
       "    <tr>\n",
       "      <th>3</th>\n",
       "      <td>f234</td>\n",
       "      <td>Stelasyn</td>\n",
       "      <td>15</td>\n",
       "      <td>48.735197</td>\n",
       "      <td>1</td>\n",
       "    </tr>\n",
       "    <tr>\n",
       "      <th>4</th>\n",
       "      <td>f234</td>\n",
       "      <td>Stelasyn</td>\n",
       "      <td>20</td>\n",
       "      <td>51.112713</td>\n",
       "      <td>2</td>\n",
       "    </tr>\n",
       "  </tbody>\n",
       "</table>\n",
       "</div>"
      ],
      "text/plain": [
       "  Mouse ID      Drug  Timepoint  Tumor Volume (mm3)  Metastatic Sites\n",
       "0     f234  Stelasyn          0           45.000000                 0\n",
       "1     f234  Stelasyn          5           47.313491                 0\n",
       "2     f234  Stelasyn         10           47.904324                 0\n",
       "3     f234  Stelasyn         15           48.735197                 1\n",
       "4     f234  Stelasyn         20           51.112713                 2"
      ]
     },
     "execution_count": 196,
     "metadata": {},
     "output_type": "execute_result"
    }
   ],
   "source": [
    "drug_test = pd.merge(mouse_df, clinical_df, on=\"Mouse ID\")\n",
    "drug_test.head()"
   ]
  },
  {
   "cell_type": "markdown",
   "metadata": {},
   "source": [
    "Organize treatment specific tables\n",
    "    -Tumor Volume Change\n",
    "    -Metastatic Site Change\n",
    "    -Mouse Survival Rate"
   ]
  },
  {
   "cell_type": "code",
   "execution_count": 197,
   "metadata": {},
   "outputs": [],
   "source": [
    "# capomulin\n",
    "capo_df = drug_test.loc[drug_test[\"Drug\"]==\"Capomulin\", :]\n",
    "#capo_df.head(15)"
   ]
  },
  {
   "cell_type": "code",
   "execution_count": 203,
   "metadata": {},
   "outputs": [
    {
     "data": {
      "text/plain": [
       "Timepoint\n",
       "0     45.000000\n",
       "5     44.266086\n",
       "10    43.084291\n",
       "15    42.064317\n",
       "20    40.716325\n",
       "25    39.939528\n",
       "30    38.769339\n",
       "35    37.816839\n",
       "40    36.958001\n",
       "45    36.236114\n",
       "Name: Tumor Volume (mm3), dtype: float64"
      ]
     },
     "execution_count": 203,
     "metadata": {},
     "output_type": "execute_result"
    }
   ],
   "source": [
    "# avg capo tumor volume to prepare plot\n",
    "capo_tv = capo_df.groupby(\"Timepoint\")[\"Tumor Volume (mm3)\"].mean()\n",
    "capo_tv"
   ]
  },
  {
   "cell_type": "code",
   "execution_count": 226,
   "metadata": {},
   "outputs": [
    {
     "data": {
      "text/plain": [
       "Timepoint\n",
       "0     0.000000\n",
       "5     0.448593\n",
       "10    0.702684\n",
       "15    0.838617\n",
       "20    0.909731\n",
       "25    0.881642\n",
       "30    0.934460\n",
       "35    1.052241\n",
       "40    1.223608\n",
       "45    1.223977\n",
       "Name: Tumor Volume (mm3), dtype: float64"
      ]
     },
     "execution_count": 226,
     "metadata": {},
     "output_type": "execute_result"
    }
   ],
   "source": [
    "# calc std error of capo tumor volume for later use\n",
    "capo_tvsem = capo_df.groupby(\"Timepoint\")[\"Tumor Volume (mm3)\"].sem()\n",
    "\n",
    "capo_tvsem"
   ]
  },
  {
   "cell_type": "code",
   "execution_count": 292,
   "metadata": {},
   "outputs": [
    {
     "data": {
      "text/plain": [
       "Timepoint\n",
       "0     0.000000\n",
       "5     0.160000\n",
       "10    0.320000\n",
       "15    0.375000\n",
       "20    0.652174\n",
       "25    0.818182\n",
       "30    1.090909\n",
       "35    1.181818\n",
       "40    1.380952\n",
       "45    1.476190\n",
       "Name: Metastatic Sites, dtype: float64"
      ]
     },
     "execution_count": 292,
     "metadata": {},
     "output_type": "execute_result"
    }
   ],
   "source": [
    "# capo metastatic sites to prepare plot\n",
    "capo_ms = capo_df.groupby(\"Timepoint\")[\"Metastatic Sites\"].mean()\n",
    "capo_ms"
   ]
  },
  {
   "cell_type": "code",
   "execution_count": 227,
   "metadata": {},
   "outputs": [
    {
     "data": {
      "text/plain": [
       "Timepoint\n",
       "0     0.000000\n",
       "5     0.074833\n",
       "10    0.125433\n",
       "15    0.132048\n",
       "20    0.161621\n",
       "25    0.181818\n",
       "30    0.172944\n",
       "35    0.169496\n",
       "40    0.175610\n",
       "45    0.202591\n",
       "Name: Metastatic Sites, dtype: float64"
      ]
     },
     "execution_count": 227,
     "metadata": {},
     "output_type": "execute_result"
    }
   ],
   "source": [
    "# calc std error of capo metastatic sites for later use\n",
    "capo_mssem = capo_df.groupby(\"Timepoint\")[\"Metastatic Sites\"].sem()\n",
    "\n",
    "capo_mssem"
   ]
  },
  {
   "cell_type": "code",
   "execution_count": 313,
   "metadata": {},
   "outputs": [
    {
     "data": {
      "text/plain": [
       "Timepoint\n",
       "0     25\n",
       "5     25\n",
       "10    25\n",
       "15    24\n",
       "20    23\n",
       "25    22\n",
       "30    22\n",
       "35    22\n",
       "40    21\n",
       "45    21\n",
       "Name: Mouse ID, dtype: int64"
      ]
     },
     "execution_count": 313,
     "metadata": {},
     "output_type": "execute_result"
    }
   ],
   "source": [
    "# capo sort for mouse survival to prepare plot - plot all at end\n",
    "capo_mouse = capo_df.groupby(\"Timepoint\").count().iloc[:,0]\n",
    "capo_mouse"
   ]
  },
  {
   "cell_type": "code",
   "execution_count": 337,
   "metadata": {},
   "outputs": [
    {
     "data": {
      "text/plain": [
       "[100.0, 100.0, 100.0, 96.0, 92.0, 88.0, 88.0, 88.0, 84.0, 84.0]"
      ]
     },
     "execution_count": 337,
     "metadata": {},
     "output_type": "execute_result"
    }
   ],
   "source": [
    "capo_mousesr = []\n",
    "for k in list(capo_mouse):\n",
    "    capo_mousesr.append((k / capo_mouse[0])*100)\n",
    "capo_mousesr"
   ]
  },
  {
   "cell_type": "code",
   "execution_count": 139,
   "metadata": {},
   "outputs": [],
   "source": [
    "# infubinol\n",
    "infu_df = drug_test.loc[drug_test[\"Drug\"]==\"Infubinol\", :]\n",
    "#infu_df"
   ]
  },
  {
   "cell_type": "code",
   "execution_count": 140,
   "metadata": {},
   "outputs": [
    {
     "data": {
      "text/plain": [
       "Timepoint\n",
       "0     45.000000\n",
       "5     47.062001\n",
       "10    49.403909\n",
       "15    51.296397\n",
       "20    53.197691\n",
       "25    55.715252\n",
       "30    58.299397\n",
       "35    60.742461\n",
       "40    63.162824\n",
       "45    65.755562\n",
       "Name: Tumor Volume (mm3), dtype: float64"
      ]
     },
     "execution_count": 140,
     "metadata": {},
     "output_type": "execute_result"
    }
   ],
   "source": [
    "# avg infu tumor volume to prepare plot\n",
    "infu_tv = infu_df.groupby(\"Timepoint\")[\"Tumor Volume (mm3)\"].mean()\n",
    "infu_tv"
   ]
  },
  {
   "cell_type": "code",
   "execution_count": 228,
   "metadata": {},
   "outputs": [
    {
     "data": {
      "text/plain": [
       "Timepoint\n",
       "0     0.000000\n",
       "5     0.235102\n",
       "10    0.282346\n",
       "15    0.357705\n",
       "20    0.476210\n",
       "25    0.550315\n",
       "30    0.631061\n",
       "35    0.984155\n",
       "40    1.055220\n",
       "45    1.144427\n",
       "Name: Tumor Volume (mm3), dtype: float64"
      ]
     },
     "execution_count": 228,
     "metadata": {},
     "output_type": "execute_result"
    }
   ],
   "source": [
    "# calc std error of infu tumor volume for later use\n",
    "infu_tvsem = infu_df.groupby(\"Timepoint\")[\"Tumor Volume (mm3)\"].sem()\n",
    "\n",
    "infu_tvsem"
   ]
  },
  {
   "cell_type": "code",
   "execution_count": 293,
   "metadata": {},
   "outputs": [
    {
     "data": {
      "text/plain": [
       "Timepoint\n",
       "0     0.000000\n",
       "5     0.280000\n",
       "10    0.666667\n",
       "15    0.904762\n",
       "20    1.050000\n",
       "25    1.277778\n",
       "30    1.588235\n",
       "35    1.666667\n",
       "40    2.100000\n",
       "45    2.111111\n",
       "Name: Metastatic Sites, dtype: float64"
      ]
     },
     "execution_count": 293,
     "metadata": {},
     "output_type": "execute_result"
    }
   ],
   "source": [
    "# infu metastatic sites to prepare plot\n",
    "infu_ms = infu_df.groupby(\"Timepoint\")[\"Metastatic Sites\"].mean()\n",
    "infu_ms"
   ]
  },
  {
   "cell_type": "code",
   "execution_count": 231,
   "metadata": {},
   "outputs": [
    {
     "data": {
      "text/plain": [
       "Timepoint\n",
       "0     0.000000\n",
       "5     0.091652\n",
       "10    0.159364\n",
       "15    0.194015\n",
       "20    0.234801\n",
       "25    0.265753\n",
       "30    0.227823\n",
       "35    0.224733\n",
       "40    0.314466\n",
       "45    0.309320\n",
       "Name: Metastatic Sites, dtype: float64"
      ]
     },
     "execution_count": 231,
     "metadata": {},
     "output_type": "execute_result"
    }
   ],
   "source": [
    "# calc std error of infu metastatic sites for later use\n",
    "infu_mssem = infu_df.groupby(\"Timepoint\")[\"Metastatic Sites\"].sem()\n",
    "\n",
    "infu_mssem"
   ]
  },
  {
   "cell_type": "code",
   "execution_count": 314,
   "metadata": {},
   "outputs": [
    {
     "data": {
      "text/plain": [
       "Timepoint\n",
       "0     25\n",
       "5     25\n",
       "10    21\n",
       "15    21\n",
       "20    20\n",
       "25    18\n",
       "30    17\n",
       "35    12\n",
       "40    10\n",
       "45     9\n",
       "Name: Mouse ID, dtype: int64"
      ]
     },
     "execution_count": 314,
     "metadata": {},
     "output_type": "execute_result"
    }
   ],
   "source": [
    "# infu sort for mouse survival to prepare plot - plot all at end\n",
    "infu_mouse = infu_df.groupby(\"Timepoint\").count().iloc[:,0]\n",
    "infu_mouse"
   ]
  },
  {
   "cell_type": "code",
   "execution_count": 338,
   "metadata": {},
   "outputs": [
    {
     "data": {
      "text/plain": [
       "[100.0, 100.0, 84.0, 84.0, 80.0, 72.0, 68.0, 48.0, 40.0, 36.0]"
      ]
     },
     "execution_count": 338,
     "metadata": {},
     "output_type": "execute_result"
    }
   ],
   "source": [
    "infu_mousesr = []\n",
    "for k in list(infu_mouse):\n",
    "    infu_mousesr.append((k / infu_mouse[0])*100)\n",
    "infu_mousesr"
   ]
  },
  {
   "cell_type": "code",
   "execution_count": 146,
   "metadata": {},
   "outputs": [],
   "source": [
    "# ketapril\n",
    "keta_df = drug_test.loc[drug_test[\"Drug\"]==\"Ketapril\", :]\n",
    "#keta_df"
   ]
  },
  {
   "cell_type": "code",
   "execution_count": 147,
   "metadata": {},
   "outputs": [
    {
     "data": {
      "text/plain": [
       "Timepoint\n",
       "0     45.000000\n",
       "5     47.389175\n",
       "10    49.582269\n",
       "15    52.399974\n",
       "20    54.920935\n",
       "25    57.678982\n",
       "30    60.994507\n",
       "35    63.371686\n",
       "40    66.068580\n",
       "45    70.662958\n",
       "Name: Tumor Volume (mm3), dtype: float64"
      ]
     },
     "execution_count": 147,
     "metadata": {},
     "output_type": "execute_result"
    }
   ],
   "source": [
    "# avg capo tumor volume to prepare plot\n",
    "keta_tv = keta_df.groupby(\"Timepoint\")[\"Tumor Volume (mm3)\"].mean()\n",
    "keta_tv"
   ]
  },
  {
   "cell_type": "code",
   "execution_count": 229,
   "metadata": {},
   "outputs": [
    {
     "data": {
      "text/plain": [
       "Timepoint\n",
       "0     0.000000\n",
       "5     0.264819\n",
       "10    0.357421\n",
       "15    0.580268\n",
       "20    0.726484\n",
       "25    0.755413\n",
       "30    0.934121\n",
       "35    1.127867\n",
       "40    1.158449\n",
       "45    1.453186\n",
       "Name: Tumor Volume (mm3), dtype: float64"
      ]
     },
     "execution_count": 229,
     "metadata": {},
     "output_type": "execute_result"
    }
   ],
   "source": [
    "# calc std error of keta tumor volume for later use\n",
    "keta_tvsem = keta_df.groupby(\"Timepoint\")[\"Tumor Volume (mm3)\"].sem()\n",
    "\n",
    "keta_tvsem"
   ]
  },
  {
   "cell_type": "code",
   "execution_count": 294,
   "metadata": {},
   "outputs": [
    {
     "data": {
      "text/plain": [
       "Timepoint\n",
       "0     0.000000\n",
       "5     0.304348\n",
       "10    0.590909\n",
       "15    0.842105\n",
       "20    1.210526\n",
       "25    1.631579\n",
       "30    2.055556\n",
       "35    2.294118\n",
       "40    2.733333\n",
       "45    3.363636\n",
       "Name: Metastatic Sites, dtype: float64"
      ]
     },
     "execution_count": 294,
     "metadata": {},
     "output_type": "execute_result"
    }
   ],
   "source": [
    "# keta metastatic sites to prepare plot\n",
    "keta_ms = keta_df.groupby(\"Timepoint\")[\"Metastatic Sites\"].mean()\n",
    "keta_ms"
   ]
  },
  {
   "cell_type": "code",
   "execution_count": 232,
   "metadata": {},
   "outputs": [
    {
     "data": {
      "text/plain": [
       "Timepoint\n",
       "0     0.000000\n",
       "5     0.098100\n",
       "10    0.142018\n",
       "15    0.191381\n",
       "20    0.236680\n",
       "25    0.288275\n",
       "30    0.347467\n",
       "35    0.361418\n",
       "40    0.315725\n",
       "45    0.278722\n",
       "Name: Metastatic Sites, dtype: float64"
      ]
     },
     "execution_count": 232,
     "metadata": {},
     "output_type": "execute_result"
    }
   ],
   "source": [
    "# calc std error of keta metastatic sites for later use\n",
    "keta_mssem = keta_df.groupby(\"Timepoint\")[\"Metastatic Sites\"].sem()\n",
    "\n",
    "keta_mssem"
   ]
  },
  {
   "cell_type": "code",
   "execution_count": 315,
   "metadata": {},
   "outputs": [
    {
     "data": {
      "text/plain": [
       "Timepoint\n",
       "0     25\n",
       "5     23\n",
       "10    22\n",
       "15    19\n",
       "20    19\n",
       "25    19\n",
       "30    18\n",
       "35    17\n",
       "40    15\n",
       "45    11\n",
       "Name: Mouse ID, dtype: int64"
      ]
     },
     "execution_count": 315,
     "metadata": {},
     "output_type": "execute_result"
    }
   ],
   "source": [
    "# keta sort for mouse survival to prepare plot - plot all at end\n",
    "keta_mouse = keta_df.groupby(\"Timepoint\").count().iloc[:,0]\n",
    "keta_mouse"
   ]
  },
  {
   "cell_type": "code",
   "execution_count": 339,
   "metadata": {},
   "outputs": [
    {
     "data": {
      "text/plain": [
       "[100.0, 92.0, 88.0, 76.0, 76.0, 76.0, 72.0, 68.0, 60.0, 44.0]"
      ]
     },
     "execution_count": 339,
     "metadata": {},
     "output_type": "execute_result"
    }
   ],
   "source": [
    "keta_mousesr = []\n",
    "for k in list(keta_mouse):\n",
    "    keta_mousesr.append((k / keta_mouse[0])*100)\n",
    "keta_mousesr"
   ]
  },
  {
   "cell_type": "code",
   "execution_count": 164,
   "metadata": {},
   "outputs": [],
   "source": [
    "# placebo\n",
    "plac_df = drug_test.loc[drug_test[\"Drug\"]==\"Placebo\", :]\n",
    "#plac_df"
   ]
  },
  {
   "cell_type": "code",
   "execution_count": 154,
   "metadata": {},
   "outputs": [
    {
     "data": {
      "text/plain": [
       "Timepoint\n",
       "0     45.000000\n",
       "5     47.125589\n",
       "10    49.423329\n",
       "15    51.359742\n",
       "20    54.364417\n",
       "25    57.482574\n",
       "30    59.809063\n",
       "35    62.420615\n",
       "40    65.052675\n",
       "45    68.084082\n",
       "Name: Tumor Volume (mm3), dtype: float64"
      ]
     },
     "execution_count": 154,
     "metadata": {},
     "output_type": "execute_result"
    }
   ],
   "source": [
    "# avg plac tumor volume to prepare plot\n",
    "plac_tv = plac_df.groupby(\"Timepoint\")[\"Tumor Volume (mm3)\"].mean()\n",
    "plac_tv"
   ]
  },
  {
   "cell_type": "code",
   "execution_count": 230,
   "metadata": {},
   "outputs": [
    {
     "data": {
      "text/plain": [
       "Timepoint\n",
       "0     0.000000\n",
       "5     0.218091\n",
       "10    0.402064\n",
       "15    0.614461\n",
       "20    0.839609\n",
       "25    1.034872\n",
       "30    1.218231\n",
       "35    1.287481\n",
       "40    1.370634\n",
       "45    1.351726\n",
       "Name: Tumor Volume (mm3), dtype: float64"
      ]
     },
     "execution_count": 230,
     "metadata": {},
     "output_type": "execute_result"
    }
   ],
   "source": [
    "# calc std error of plac tumor volume for later use\n",
    "plac_tvsem = plac_df.groupby(\"Timepoint\")[\"Tumor Volume (mm3)\"].sem()\n",
    "\n",
    "plac_tvsem"
   ]
  },
  {
   "cell_type": "code",
   "execution_count": 295,
   "metadata": {},
   "outputs": [
    {
     "data": {
      "text/plain": [
       "Timepoint\n",
       "0     0.000000\n",
       "5     0.375000\n",
       "10    0.833333\n",
       "15    1.250000\n",
       "20    1.526316\n",
       "25    1.941176\n",
       "30    2.266667\n",
       "35    2.642857\n",
       "40    3.166667\n",
       "45    3.272727\n",
       "Name: Metastatic Sites, dtype: float64"
      ]
     },
     "execution_count": 295,
     "metadata": {},
     "output_type": "execute_result"
    }
   ],
   "source": [
    "# plac metastatic sites to prepare plot\n",
    "plac_ms = plac_df.groupby(\"Timepoint\")[\"Metastatic Sites\"].mean()\n",
    "plac_ms"
   ]
  },
  {
   "cell_type": "code",
   "execution_count": 233,
   "metadata": {},
   "outputs": [
    {
     "data": {
      "text/plain": [
       "Timepoint\n",
       "0     0.000000\n",
       "5     0.100947\n",
       "10    0.115261\n",
       "15    0.190221\n",
       "20    0.234064\n",
       "25    0.263888\n",
       "30    0.300264\n",
       "35    0.341412\n",
       "40    0.297294\n",
       "45    0.304240\n",
       "Name: Metastatic Sites, dtype: float64"
      ]
     },
     "execution_count": 233,
     "metadata": {},
     "output_type": "execute_result"
    }
   ],
   "source": [
    "# calc std error of plac metastatic sites for later use\n",
    "plac_mssem = plac_df.groupby(\"Timepoint\")[\"Metastatic Sites\"].sem()\n",
    "\n",
    "plac_mssem"
   ]
  },
  {
   "cell_type": "code",
   "execution_count": 316,
   "metadata": {},
   "outputs": [
    {
     "data": {
      "text/plain": [
       "Timepoint\n",
       "0     25\n",
       "5     24\n",
       "10    24\n",
       "15    20\n",
       "20    19\n",
       "25    17\n",
       "30    15\n",
       "35    14\n",
       "40    12\n",
       "45    11\n",
       "Name: Mouse ID, dtype: int64"
      ]
     },
     "execution_count": 316,
     "metadata": {},
     "output_type": "execute_result"
    }
   ],
   "source": [
    "# plac sort for mouse survival to prepare plot - plot all at end\n",
    "plac_mouse = plac_df.groupby(\"Timepoint\").count().iloc[:,0]\n",
    "plac_mouse"
   ]
  },
  {
   "cell_type": "code",
   "execution_count": 340,
   "metadata": {},
   "outputs": [
    {
     "data": {
      "text/plain": [
       "[100.0, 96.0, 96.0, 80.0, 76.0, 68.0, 60.0, 56.000000000000007, 48.0, 44.0]"
      ]
     },
     "execution_count": 340,
     "metadata": {},
     "output_type": "execute_result"
    }
   ],
   "source": [
    "plac_mousesr = []\n",
    "for k in list(plac_mouse):\n",
    "    plac_mousesr.append((k / plac_mouse[0])*100)\n",
    "plac_mousesr"
   ]
  },
  {
   "cell_type": "code",
   "execution_count": 305,
   "metadata": {},
   "outputs": [
    {
     "data": {
      "image/png": "[encoded data removed]",
      "text/plain": [
       "<matplotlib.figure.Figure at 0x296016cd438>"
      ]
     },
     "metadata": {},
     "output_type": "display_data"
    }
   ],
   "source": [
    "# plot the Tumor Volume of each drug on same chart\n",
    "x_axis = np.arange(0, 50, 5)\n",
    "\n",
    "fig, ax = plt.subplots(figsize=(7,5))\n",
    "\n",
    "ax.errorbar(x_axis, capo_tv, yerr=capo_tvsem, fmt=\"--o\", color=\"b\",\n",
    "            alpha=0.75, label=\"Capomulin\")\n",
    "ax.errorbar(x_axis, infu_tv, yerr=infu_tvsem, fmt=\"--s\", color=\"r\",\n",
    "            alpha=0.75, label=\"Infubinol\")\n",
    "ax.errorbar(x_axis, keta_tv, yerr=keta_tvsem, fmt=\"--d\", color=\"g\",\n",
    "            alpha=0.75, label=\"Ketapril\")\n",
    "ax.errorbar(x_axis, plac_tv, yerr=plac_tvsem, fmt=\"--X\", color=\"k\",\n",
    "            alpha=0.75, label=\"Placebo\")\n",
    "\n",
    "ax.grid()\n",
    "ax.set_xlim(0, 45, 5)\n",
    "ax.set_ylim(30, 75, 5)\n",
    "\n",
    "ax.set_xlabel(\"Time (days)\")\n",
    "ax.set_ylabel(\"Tumor Volume (mm3)\")\n",
    "\n",
    "plt.title(\"Change in Tumor Size\")\n",
    "plt.legend(loc=\"best\", fontsize=\"small\", fancybox=True)\n",
    "\n",
    "plt.show()"
   ]
  },
  {
   "cell_type": "code",
   "execution_count": 306,
   "metadata": {},
   "outputs": [
    {
     "data": {
      "image/png": "[encoded data removed]",
      "text/plain": [
       "<matplotlib.figure.Figure at 0x2967f6f1668>"
      ]
     },
     "metadata": {},
     "output_type": "display_data"
    }
   ],
   "source": [
    "# plot the Metastatic Sites of each drug on same chart\n",
    "x_axis = np.arange(0, 50, 5)\n",
    "\n",
    "fig, ax = plt.subplots(figsize=(7,5))\n",
    "\n",
    "ax.errorbar(x_axis, capo_ms, yerr=capo_mssem, fmt=\"--o\", color=\"b\",\n",
    "            alpha=0.75, label=\"Capomulin\")\n",
    "ax.errorbar(x_axis, infu_ms, yerr=infu_mssem, fmt=\"--s\", color=\"r\",\n",
    "            alpha=0.75, label=\"Infubinol\")\n",
    "ax.errorbar(x_axis, keta_ms, yerr=keta_mssem, fmt=\"--d\", color=\"g\",\n",
    "            alpha=0.75, label=\"Ketapril\")\n",
    "ax.errorbar(x_axis, plac_ms, yerr=plac_mssem, fmt=\"--X\", color=\"k\",\n",
    "            alpha=0.75, label=\"Placebo\")\n",
    "\n",
    "ax.grid()\n",
    "ax.set_xlim(0, 45, 5)\n",
    "ax.set_ylim(0, 4, .5)\n",
    "\n",
    "ax.set_xlabel(\"Time (days)\")\n",
    "ax.set_ylabel(\"Tumor Volume (mm3)\")\n",
    "\n",
    "plt.title(\"Metastatic Site Change\")\n",
    "plt.legend(loc=\"best\", fontsize=\"small\", fancybox=True)\n",
    "\n",
    "plt.show()"
   ]
  },
  {
   "cell_type": "code",
   "execution_count": 372,
   "metadata": {},
   "outputs": [
    {
     "data": {
      "image/png": "[encoded data removed]",
      "text/plain": [
       "<matplotlib.figure.Figure at 0x2960169bfd0>"
      ]
     },
     "metadata": {},
     "output_type": "display_data"
    }
   ],
   "source": [
    "# plot the Mouse survival of each drug on same chart\n",
    "x_axis = np.arange(0, 50, 5)\n",
    "\n",
    "fig, ax = plt.subplots(figsize=(7, 5))\n",
    "\n",
    "ax.plot(x_axis, capo_mousesr, \"b--o\", alpha=0.75, label=\"Capomulin\") \n",
    "ax.plot(x_axis, infu_mousesr, \"r--s\", alpha=0.75, label=\"Infubinol\")\n",
    "ax.plot(x_axis, keta_mousesr, \"g--d\", alpha=0.75, label=\"Ketapril\")\n",
    "ax.plot(x_axis, plac_mousesr, \"k--X\", alpha=0.75, label=\"Placebo\")\n",
    "\n",
    "plt.grid()\n",
    "plt.xlim(0, 45, 5)\n",
    "plt.ylim(30, 105, 10)\n",
    "\n",
    "plt.xlabel(\"Time (days)\")\n",
    "plt.ylabel(\"Survival Rate (%)\")\n",
    "\n",
    "plt.title(\"Mouse Survival During Trial\")\n",
    "plt.legend(loc=\"best\", fontsize=\"small\", fancybox=True)\n",
    "\n",
    "plt.show()"
   ]
  },
  {
   "cell_type": "code",
   "execution_count": null,
   "metadata": {
    "collapsed": true
   },
   "outputs": [],
   "source": []
  },
  {
   "cell_type": "markdown",
   "metadata": {},
   "source": [
    "Organize for Bar chart showing % Tumer Volume change for each treatment from trial start to finish"
   ]
  },
  {
   "cell_type": "code",
   "execution_count": 375,
   "metadata": {},
   "outputs": [
    {
     "data": {
      "text/html": [
       "<div>\n",
       "<style>\n",
       "    .dataframe thead tr:only-child th {\n",
       "        text-align: right;\n",
       "    }\n",
       "\n",
       "    .dataframe thead th {\n",
       "        text-align: left;\n",
       "    }\n",
       "\n",
       "    .dataframe tbody tr th {\n",
       "        vertical-align: top;\n",
       "    }\n",
       "</style>\n",
       "<table border=\"1\" class=\"dataframe\">\n",
       "  <thead>\n",
       "    <tr style=\"text-align: right;\">\n",
       "      <th></th>\n",
       "      <th>Capomulin</th>\n",
       "      <th>Infubinol</th>\n",
       "      <th>Ketapril</th>\n",
       "      <th>Placebo</th>\n",
       "    </tr>\n",
       "    <tr>\n",
       "      <th>Timepoint</th>\n",
       "      <th></th>\n",
       "      <th></th>\n",
       "      <th></th>\n",
       "      <th></th>\n",
       "    </tr>\n",
       "  </thead>\n",
       "  <tbody>\n",
       "    <tr>\n",
       "      <th>0</th>\n",
       "      <td>45.000000</td>\n",
       "      <td>45.000000</td>\n",
       "      <td>45.000000</td>\n",
       "      <td>45.000000</td>\n",
       "    </tr>\n",
       "    <tr>\n",
       "      <th>5</th>\n",
       "      <td>44.266086</td>\n",
       "      <td>47.062001</td>\n",
       "      <td>47.389175</td>\n",
       "      <td>47.125589</td>\n",
       "    </tr>\n",
       "    <tr>\n",
       "      <th>10</th>\n",
       "      <td>43.084291</td>\n",
       "      <td>49.403909</td>\n",
       "      <td>49.582269</td>\n",
       "      <td>49.423329</td>\n",
       "    </tr>\n",
       "    <tr>\n",
       "      <th>15</th>\n",
       "      <td>42.064317</td>\n",
       "      <td>51.296397</td>\n",
       "      <td>52.399974</td>\n",
       "      <td>51.359742</td>\n",
       "    </tr>\n",
       "    <tr>\n",
       "      <th>20</th>\n",
       "      <td>40.716325</td>\n",
       "      <td>53.197691</td>\n",
       "      <td>54.920935</td>\n",
       "      <td>54.364417</td>\n",
       "    </tr>\n",
       "    <tr>\n",
       "      <th>25</th>\n",
       "      <td>39.939528</td>\n",
       "      <td>55.715252</td>\n",
       "      <td>57.678982</td>\n",
       "      <td>57.482574</td>\n",
       "    </tr>\n",
       "    <tr>\n",
       "      <th>30</th>\n",
       "      <td>38.769339</td>\n",
       "      <td>58.299397</td>\n",
       "      <td>60.994507</td>\n",
       "      <td>59.809063</td>\n",
       "    </tr>\n",
       "    <tr>\n",
       "      <th>35</th>\n",
       "      <td>37.816839</td>\n",
       "      <td>60.742461</td>\n",
       "      <td>63.371686</td>\n",
       "      <td>62.420615</td>\n",
       "    </tr>\n",
       "    <tr>\n",
       "      <th>40</th>\n",
       "      <td>36.958001</td>\n",
       "      <td>63.162824</td>\n",
       "      <td>66.068580</td>\n",
       "      <td>65.052675</td>\n",
       "    </tr>\n",
       "    <tr>\n",
       "      <th>45</th>\n",
       "      <td>36.236114</td>\n",
       "      <td>65.755562</td>\n",
       "      <td>70.662958</td>\n",
       "      <td>68.084082</td>\n",
       "    </tr>\n",
       "  </tbody>\n",
       "</table>\n",
       "</div>"
      ],
      "text/plain": [
       "           Capomulin  Infubinol   Ketapril    Placebo\n",
       "Timepoint                                            \n",
       "0          45.000000  45.000000  45.000000  45.000000\n",
       "5          44.266086  47.062001  47.389175  47.125589\n",
       "10         43.084291  49.403909  49.582269  49.423329\n",
       "15         42.064317  51.296397  52.399974  51.359742\n",
       "20         40.716325  53.197691  54.920935  54.364417\n",
       "25         39.939528  55.715252  57.678982  57.482574\n",
       "30         38.769339  58.299397  60.994507  59.809063\n",
       "35         37.816839  60.742461  63.371686  62.420615\n",
       "40         36.958001  63.162824  66.068580  65.052675\n",
       "45         36.236114  65.755562  70.662958  68.084082"
      ]
     },
     "execution_count": 375,
     "metadata": {},
     "output_type": "execute_result"
    }
   ],
   "source": [
    "# merge all drug tumor volume data\n",
    "tv_dfs = [capo_tv, infu_tv, keta_tv, plac_tv]\n",
    "con_tv = pd.concat(tv_dfs, axis=1, join='outer')\n",
    "con_tv.columns = [\"Capomulin\", \"Infubinol\", \"Ketapril\", \"Placebo\"]\n",
    "con_tv"
   ]
  },
  {
   "cell_type": "code",
   "execution_count": null,
   "metadata": {
    "collapsed": true
   },
   "outputs": [],
   "source": []
  }
 ],
 "metadata": {
  "kernelspec": {
   "display_name": "Python [conda env:PythonData]",
   "language": "python",
   "name": "conda-env-PythonData-py"
  },
  "language_info": {
   "codemirror_mode": {
    "name": "ipython",
    "version": 3
   },
   "file_extension": ".py",
   "mimetype": "text/x-python",
   "name": "python",
   "nbconvert_exporter": "python",
   "pygments_lexer": "ipython3",
   "version": "3.6.3"
  }
 },
 "nbformat": 4,
 "nbformat_minor": 2
}
